{
  "nbformat": 4,
  "nbformat_minor": 0,
  "metadata": {
    "colab": {
      "provenance": [],
      "include_colab_link": true
    },
    "kernelspec": {
      "name": "python3",
      "display_name": "Python 3"
    }
  },
  "cells": [
    {
      "cell_type": "markdown",
      "metadata": {
        "id": "view-in-github",
        "colab_type": "text"
      },
      "source": [
        "<a href=\"https://colab.research.google.com/github/AguaClara/Dissolved-Organic-Matter/blob/main/Interactive_Tutorial_2_Python_Basics.ipynb\" target=\"_parent\"><img src=\"https://colab.research.google.com/assets/colab-badge.svg\" alt=\"Open In Colab\"/></a>"
      ]
    },
    {
      "cell_type": "markdown",
      "metadata": {
        "id": "W2ZarukKTCeg"
      },
      "source": [
        "# Interactive Tutorial 2: Python Basics\n",
        "\n",
        "Welcome to the Python Basics tutorial! Please remember to **save your completed tutorial as a copy**! We'll be using code cells in Colab in write and run Python code. Remember that you can refer to the [Python Basics](https://aguaclara.github.io/aguaclara_tutorial/python/python-basics.html) pages in the AguaClara tutorial wiki for help."
      ]
    },
    {
      "cell_type": "markdown",
      "source": [],
      "metadata": {
        "id": "VB1LRKx2hLOb"
      }
    },
    {
      "cell_type": "markdown",
      "metadata": {
        "id": "uShFw_zOsinn"
      },
      "source": [
        "1. Write Monroe's favorite food in a string.\n",
        "   \n",
        "   *Hint: It's rice and beans. Yum, string beans.*"
      ]
    },
    {
      "cell_type": "code",
      "metadata": {
        "id": "gS2HK0QoSOCI"
      },
      "source": [
        "favorite_food = \"rice and beans\"\n",
        "\n",
        "print(favorite_food)"
      ],
      "execution_count": null,
      "outputs": []
    },
    {
      "cell_type": "markdown",
      "metadata": {
        "id": "qn1dl1K9sxsh"
      },
      "source": [
        "2. Evaluate (1)(2+3)(4^5) using Python math operators."
      ]
    },
    {
      "cell_type": "code",
      "metadata": {
        "id": "0eu5x-w-dOUV"
      },
      "source": [
        "result = (1) * (2 + 3) * (4 ** 5)\n",
        "\n",
        "print(result)"
      ],
      "execution_count": null,
      "outputs": []
    },
    {
      "cell_type": "markdown",
      "metadata": {
        "id": "URYUcneFs6AC"
      },
      "source": [
        "3.  Write an expression that evaluates to true if `murky` is false, `colorless` is true, and either `pathogens` or `microbes` is false."
      ]
    },
    {
      "cell_type": "code",
      "metadata": {
        "id": "HhgNU07Fp7y6"
      },
      "source": [
        "murky = False\n",
        "colorless = False\n",
        "pathogens = True\n",
        "microbes = False\n",
        "safe_water_on_tap = not murky and colorless and not (pathogens or microbes)\n",
        "\n",
        "print(safe_water_on_tap)"
      ],
      "execution_count": null,
      "outputs": []
    },
    {
      "cell_type": "markdown",
      "metadata": {
        "id": "u8w8ffjctFLJ"
      },
      "source": [
        "4. Write the month and day of your favorite date as a list of 2 integers."
      ]
    },
    {
      "cell_type": "code",
      "metadata": {
        "id": "8e_oqikmwb_X"
      },
      "source": [
        "date = [2, 14]\n",
        "\n",
        "print(date)"
      ],
      "execution_count": null,
      "outputs": []
    },
    {
      "cell_type": "markdown",
      "metadata": {
        "id": "pU8bcsRPtGp2"
      },
      "source": [
        "5. Append the year to the end of the date from the previous cell.\n",
        "\n",
        "   Then, change the last element of the list to itself plus one."
      ]
    },
    {
      "cell_type": "code",
      "metadata": {
        "id": "oTCUXisHzOvX"
      },
      "source": [
        "date.append(2024)\n",
        "date[-1] += 1\n",
        "\n",
        "print(date)"
      ],
      "execution_count": null,
      "outputs": []
    },
    {
      "cell_type": "markdown",
      "metadata": {
        "id": "qKx4rwbntSYM"
      },
      "source": [
        "6. Reassign the density of aluminum to 2.7."
      ]
    },
    {
      "cell_type": "code",
      "metadata": {
        "id": "UUPtsyl50s4G"
      },
      "source": [
        "density = {'water' : 1, 'pvc': 1.38, 'aluminum': 27}\n",
        "\n",
        "density['aluminum'] = 2.7\n",
        "\n",
        "print(density)"
      ],
      "execution_count": null,
      "outputs": []
    },
    {
      "cell_type": "markdown",
      "metadata": {
        "id": "WFUcSk2atX68"
      },
      "source": [
        "7. Write a conditional statement that prints \"Happy \\_\\_!\" if the date in #4 and #5 falls within the dates of your favorite season. If the date is before the season, print \"It's not \\_\\_ yet.\"; if it's after, print \"\\_\\_ has passed.\" (Replace \\_\\_ with your favorite season.) *Hint: get the month and day of the date.*"
      ]
    },
    {
      "cell_type": "code",
      "metadata": {
        "id": "7datLHot03cD"
      },
      "source": [
        "favorite_season = \"summer\"\n",
        "if (date[0] > 6) or (date[0] == 6 and date[1] >= 21):\n",
        "    print(f\"Happy {favorite_season}!\")\n",
        "elif (date[0] < 6) or (date[0] == 6 and date[1] < 21):\n",
        "    print(f\"It's not {favorite_season} yet.\")\n",
        "else:\n",
        "    print(f\"{favorite_season} has passed.\")"
      ],
      "execution_count": null,
      "outputs": []
    },
    {
      "cell_type": "markdown",
      "metadata": {
        "id": "tuvVJFEyt1v5"
      },
      "source": [
        "8. Write a for loop to print all the numbers in the list that are even and greater than 16.\n",
        "   \n",
        "   *Hint: use modulo to determine if numbers are even.*"
      ]
    },
    {
      "cell_type": "code",
      "metadata": {
        "id": "gMAyIx_5htK6"
      },
      "source": [
        "nums = [3, 14, 159, 26, 535, 89, 79, 32]\n",
        "\n",
        "for num in nums:\n",
        "    if num % 2 == 0 and num > 16:\n",
        "        print(num)"
      ],
      "execution_count": null,
      "outputs": []
    },
    {
      "cell_type": "markdown",
      "metadata": {
        "id": "FwWHB1dJuINq"
      },
      "source": [
        "9. Write a while loop to calculate the sum of the numbers in the list from #8 until the first 3-digit number -- don't include this number."
      ]
    },
    {
      "cell_type": "code",
      "metadata": {
        "id": "fXiQpez0pwY-"
      },
      "source": [
        "sum = 0\n",
        "i = 0\n",
        "while i < len(nums) and nums[i] < 1000:\n",
        "    sum += nums[i]\n",
        "    i += 1\n",
        "\n",
        "print(sum)"
      ],
      "execution_count": null,
      "outputs": []
    },
    {
      "cell_type": "markdown",
      "metadata": {
        "id": "rQyqPPPNzb4M"
      },
      "source": [
        "10. Write a function called \"double\" that takes in a number and returns its double. Then, call that function so that x is doubled 6 times (((x\\*2)\\*2)\\*2...).\n",
        "  \n",
        "  *Hint: Don't copy and paste the function 6 times!*"
      ]
    },
    {
      "cell_type": "code",
      "metadata": {
        "id": "MYZDFJlj1V3M"
      },
      "source": [
        "x = 4\n",
        "\n",
        "def double(num):\n",
        "    return num * 2\n",
        "\n",
        "x = 4\n",
        "for _ in range(6):\n",
        "    x = double(x)\n",
        "\n",
        "print(x)"
      ],
      "execution_count": null,
      "outputs": []
    },
    {
      "cell_type": "markdown",
      "metadata": {
        "id": "mxtgUe0gueW_"
      },
      "source": [
        "11. Write a function called \"short\" that takes a list as an input and returns True if the length of the list is less than or equal to 10 and False otherwise.\n",
        "\n",
        "   Then, print the output of the function when called on `a_long_one` and when called on `a_short_one`."
      ]
    },
    {
      "cell_type": "code",
      "metadata": {
        "id": "F4J4lmDthtE7",
        "outputId": "e109e050-9035-4a3f-b8de-e8c5ba93b865",
        "colab": {
          "base_uri": "https://localhost:8080/"
        }
      },
      "source": [
        "a_long_one = [1, 2, 3, 4, 5, 6, 7, 8, 9, 10, 11]\n",
        "a_short_one = [1, 2, 3]\n",
        "\n",
        "def short(lst):\n",
        "    return len(lst) <= 10\n",
        "\n",
        "print(short(a_long_one))\n",
        "print(short(a_short_one))"
      ],
      "execution_count": 1,
      "outputs": [
        {
          "output_type": "stream",
          "name": "stdout",
          "text": [
            "False\n",
            "True\n"
          ]
        }
      ]
    }
  ]
}